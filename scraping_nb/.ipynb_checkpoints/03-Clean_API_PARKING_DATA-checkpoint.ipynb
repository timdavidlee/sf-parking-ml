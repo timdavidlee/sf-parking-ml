{
 "cells": [
  {
   "cell_type": "markdown",
   "metadata": {},
   "source": [
    "### This notebook cleans the 38k rows pulled via API"
   ]
  },
  {
   "cell_type": "code",
   "execution_count": 15,
   "metadata": {
    "collapsed": true
   },
   "outputs": [],
   "source": [
    "import json\n",
    "from pprint import pprint"
   ]
  },
  {
   "cell_type": "code",
   "execution_count": 35,
   "metadata": {
    "scrolled": false
   },
   "outputs": [
    {
     "name": "stdout",
     "output_type": "stream",
     "text": [
      "0\n",
      "1000\n",
      "0\n",
      "1000\n",
      "error 1201 Expecting value: line 1 column 1 (char 0)\n",
      "0\n",
      "1000\n",
      "2000\n",
      "3000\n",
      "4000\n",
      "5000\n",
      "6000\n",
      "7000\n",
      "8000\n",
      "9000\n",
      "10000\n",
      "11000\n",
      "12000\n",
      "13000\n",
      "14000\n",
      "15000\n",
      "16000\n",
      "17000\n",
      "18000\n",
      "19000\n",
      "20000\n",
      "21000\n",
      "22000\n",
      "23000\n",
      "24000\n",
      "25000\n",
      "26000\n"
     ]
    }
   ],
   "source": [
    "def process_parking_json(path):\n",
    "    with open(path,'r') as f:\n",
    "        tmp = f.readlines()\n",
    "    listodict = []\n",
    "    for i, vv in enumerate(tmp):\n",
    "        if i % 1000 == 0:\n",
    "            print(i,)\n",
    "        try:\n",
    "            v = vv.split('|')\n",
    "            lat = v[0]\n",
    "            lon = v[1]\n",
    "            rawjson = json.loads(v[2])\n",
    "            zipc = rawjson['address']['postcode'] \n",
    "            road = rawjson['address'].get('road')\n",
    "            nhood = rawjson['address'].get('neighbourhood')\n",
    "            full_addr = rawjson['display_name']\n",
    "            jlat = rawjson['lat']\n",
    "            jlon = rawjson['lon']\n",
    "            listodict.append({\n",
    "                'lat': lat\n",
    "                ,'lon': lon\n",
    "                ,'zipcode' : zipc\n",
    "                ,'road' : road\n",
    "                ,'nhood' : nhood\n",
    "                ,'full_addr' : full_addr\n",
    "                ,'jlat':jlat\n",
    "                ,'jlon':jlon\n",
    "            })\n",
    "        except Exception as e:\n",
    "            print('error', i, e)\n",
    "            break\n",
    "    return(listodict)\n",
    "\n",
    "p1 = process_parking_json('../PARK_part1.txt')\n",
    "p2 = process_parking_json('../PARK_part2.txt')\n",
    "p3 = process_parking_json('../PARK_all_addresses2.txt')"
   ]
  },
  {
   "cell_type": "code",
   "execution_count": 38,
   "metadata": {
    "collapsed": true
   },
   "outputs": [],
   "source": [
    "import pandas as pd\n",
    "parking_json_df = pd.DataFrame(p1 + p2 + p3)"
   ]
  },
  {
   "cell_type": "code",
   "execution_count": 39,
   "metadata": {},
   "outputs": [
    {
     "data": {
      "text/html": [
       "<div>\n",
       "<style scoped>\n",
       "    .dataframe tbody tr th:only-of-type {\n",
       "        vertical-align: middle;\n",
       "    }\n",
       "\n",
       "    .dataframe tbody tr th {\n",
       "        vertical-align: top;\n",
       "    }\n",
       "\n",
       "    .dataframe thead th {\n",
       "        text-align: right;\n",
       "    }\n",
       "</style>\n",
       "<table border=\"1\" class=\"dataframe\">\n",
       "  <thead>\n",
       "    <tr style=\"text-align: right;\">\n",
       "      <th></th>\n",
       "      <th>full_addr</th>\n",
       "      <th>jlat</th>\n",
       "      <th>jlon</th>\n",
       "      <th>lat</th>\n",
       "      <th>lon</th>\n",
       "      <th>nhood</th>\n",
       "      <th>road</th>\n",
       "      <th>zipcode</th>\n",
       "    </tr>\n",
       "  </thead>\n",
       "  <tbody>\n",
       "    <tr>\n",
       "      <th>0</th>\n",
       "      <td>17, Leland Avenue, Visitacion Valley, SF, Cali...</td>\n",
       "      <td>37.7112803333333</td>\n",
       "      <td>-122.404178</td>\n",
       "      <td>37.711310</td>\n",
       "      <td>-122.404174</td>\n",
       "      <td>Visitacion Valley</td>\n",
       "      <td>Leland Avenue</td>\n",
       "      <td>94134</td>\n",
       "    </tr>\n",
       "    <tr>\n",
       "      <th>1</th>\n",
       "      <td>25, Desmond Street, Visitacion Valley, SF, Cal...</td>\n",
       "      <td>37.7112970408163</td>\n",
       "      <td>-122.40483044898</td>\n",
       "      <td>37.711318</td>\n",
       "      <td>-122.404866</td>\n",
       "      <td>Visitacion Valley</td>\n",
       "      <td>Desmond Street</td>\n",
       "      <td>94134</td>\n",
       "    </tr>\n",
       "    <tr>\n",
       "      <th>2</th>\n",
       "      <td>26, Desmond Street, Visitacion Valley, SF, Cal...</td>\n",
       "      <td>37.7113475</td>\n",
       "      <td>-122.405028</td>\n",
       "      <td>37.711336</td>\n",
       "      <td>-122.404989</td>\n",
       "      <td>Visitacion Valley</td>\n",
       "      <td>Desmond Street</td>\n",
       "      <td>94134</td>\n",
       "    </tr>\n",
       "    <tr>\n",
       "      <th>3</th>\n",
       "      <td>21, Leland Avenue, Visitacion Valley, SF, Cali...</td>\n",
       "      <td>37.7113056666667</td>\n",
       "      <td>-122.40424425</td>\n",
       "      <td>37.711339</td>\n",
       "      <td>-122.404248</td>\n",
       "      <td>Visitacion Valley</td>\n",
       "      <td>Leland Avenue</td>\n",
       "      <td>94134</td>\n",
       "    </tr>\n",
       "    <tr>\n",
       "      <th>4</th>\n",
       "      <td>16, Leland Avenue, Visitacion Valley, SF, Cali...</td>\n",
       "      <td>37.711376</td>\n",
       "      <td>-122.403948526316</td>\n",
       "      <td>37.711340</td>\n",
       "      <td>-122.403968</td>\n",
       "      <td>Visitacion Valley</td>\n",
       "      <td>Leland Avenue</td>\n",
       "      <td>94134</td>\n",
       "    </tr>\n",
       "  </tbody>\n",
       "</table>\n",
       "</div>"
      ],
      "text/plain": [
       "                                           full_addr              jlat  \\\n",
       "0  17, Leland Avenue, Visitacion Valley, SF, Cali...  37.7112803333333   \n",
       "1  25, Desmond Street, Visitacion Valley, SF, Cal...  37.7112970408163   \n",
       "2  26, Desmond Street, Visitacion Valley, SF, Cal...        37.7113475   \n",
       "3  21, Leland Avenue, Visitacion Valley, SF, Cali...  37.7113056666667   \n",
       "4  16, Leland Avenue, Visitacion Valley, SF, Cali...         37.711376   \n",
       "\n",
       "                jlon        lat          lon              nhood  \\\n",
       "0        -122.404178  37.711310  -122.404174  Visitacion Valley   \n",
       "1   -122.40483044898  37.711318  -122.404866  Visitacion Valley   \n",
       "2        -122.405028  37.711336  -122.404989  Visitacion Valley   \n",
       "3      -122.40424425  37.711339  -122.404248  Visitacion Valley   \n",
       "4  -122.403948526316  37.711340  -122.403968  Visitacion Valley   \n",
       "\n",
       "             road zipcode  \n",
       "0   Leland Avenue   94134  \n",
       "1  Desmond Street   94134  \n",
       "2  Desmond Street   94134  \n",
       "3   Leland Avenue   94134  \n",
       "4   Leland Avenue   94134  "
      ]
     },
     "execution_count": 39,
     "metadata": {},
     "output_type": "execute_result"
    }
   ],
   "source": [
    "parking_json_df.head()"
   ]
  },
  {
   "cell_type": "code",
   "execution_count": 40,
   "metadata": {
    "collapsed": true
   },
   "outputs": [],
   "source": [
    "parking_json_df.to_csv('../ref_data/clean_parking_gps2addr.txt', sep='|', index=False)"
   ]
  },
  {
   "cell_type": "code",
   "execution_count": null,
   "metadata": {
    "collapsed": true
   },
   "outputs": [],
   "source": []
  }
 ],
 "metadata": {
  "kernelspec": {
   "display_name": "Python 3",
   "language": "python",
   "name": "python3"
  },
  "language_info": {
   "codemirror_mode": {
    "name": "ipython",
    "version": 3
   },
   "file_extension": ".py",
   "mimetype": "text/x-python",
   "name": "python",
   "nbconvert_exporter": "python",
   "pygments_lexer": "ipython3",
   "version": "3.6.3"
  }
 },
 "nbformat": 4,
 "nbformat_minor": 2
}
