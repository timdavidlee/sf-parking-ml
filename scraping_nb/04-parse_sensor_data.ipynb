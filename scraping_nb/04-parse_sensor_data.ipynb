{
 "cells": [
  {
   "cell_type": "markdown",
   "metadata": {},
   "source": [
    "### Parse Sensor Data"
   ]
  },
  {
   "cell_type": "code",
   "execution_count": 3,
   "metadata": {
    "collapsed": true
   },
   "outputs": [],
   "source": [
    "import pandas as pd"
   ]
  },
  {
   "cell_type": "code",
   "execution_count": 4,
   "metadata": {
    "collapsed": true
   },
   "outputs": [],
   "source": [
    "!cat /Users/timlee/data/sf_parking/prkg_sensor_sample_10.csv"
   ]
  },
  {
   "cell_type": "markdown",
   "metadata": {},
   "source": [
    "### Import CSV - sample to prototype"
   ]
  },
  {
   "cell_type": "code",
   "execution_count": 5,
   "metadata": {
    "collapsed": true
   },
   "outputs": [],
   "source": [
    "snsr = pd.read_csv('/Users/timlee/data/sf_parking/prkg_sensor_sample.csv')"
   ]
  },
  {
   "cell_type": "code",
   "execution_count": 6,
   "metadata": {},
   "outputs": [
    {
     "data": {
      "text/html": [
       "<div>\n",
       "<style scoped>\n",
       "    .dataframe tbody tr th:only-of-type {\n",
       "        vertical-align: middle;\n",
       "    }\n",
       "\n",
       "    .dataframe tbody tr th {\n",
       "        vertical-align: top;\n",
       "    }\n",
       "\n",
       "    .dataframe thead th {\n",
       "        text-align: right;\n",
       "    }\n",
       "</style>\n",
       "<table border=\"1\" class=\"dataframe\">\n",
       "  <thead>\n",
       "    <tr style=\"text-align: right;\">\n",
       "      <th></th>\n",
       "      <th>BLOCK_ID</th>\n",
       "      <th>STREET_NAME</th>\n",
       "      <th>BLOCK_NUM</th>\n",
       "      <th>STREET_BLOCK</th>\n",
       "      <th>AREA_TYPE</th>\n",
       "      <th>PM_DISTRICT_NAME</th>\n",
       "      <th>RATE</th>\n",
       "      <th>START_TIME_DT</th>\n",
       "      <th>TOTAL_TIME</th>\n",
       "      <th>TOTAL_OCCUPIED_TIME</th>\n",
       "      <th>...</th>\n",
       "      <th>GMP_UNKNOWN_TIME</th>\n",
       "      <th>COMM_TIME</th>\n",
       "      <th>COMM_OCCUPIED_TIME</th>\n",
       "      <th>COMM_VACANT_TIME</th>\n",
       "      <th>COMM_UNKNOWN_TIME</th>\n",
       "      <th>CAL_MONTH_NAME</th>\n",
       "      <th>CAL_YEAR</th>\n",
       "      <th>CAL_DATE</th>\n",
       "      <th>DAY_TYPE</th>\n",
       "      <th>TIME_OF_DAY</th>\n",
       "    </tr>\n",
       "  </thead>\n",
       "  <tbody>\n",
       "    <tr>\n",
       "      <th>0</th>\n",
       "      <td>41522</td>\n",
       "      <td>FILLMORE ST</td>\n",
       "      <td>22</td>\n",
       "      <td>FILLMORE ST 2200</td>\n",
       "      <td>Pilot</td>\n",
       "      <td>Fillmore</td>\n",
       "      <td>NaN</td>\n",
       "      <td>01-jul-2012 21:00:00</td>\n",
       "      <td>61200</td>\n",
       "      <td>35847</td>\n",
       "      <td>...</td>\n",
       "      <td>0</td>\n",
       "      <td>0</td>\n",
       "      <td>0</td>\n",
       "      <td>0</td>\n",
       "      <td>0</td>\n",
       "      <td>July</td>\n",
       "      <td>2012</td>\n",
       "      <td>01-jul-2012</td>\n",
       "      <td>weekend</td>\n",
       "      <td>2100</td>\n",
       "    </tr>\n",
       "    <tr>\n",
       "      <th>1</th>\n",
       "      <td>41524</td>\n",
       "      <td>FILLMORE ST</td>\n",
       "      <td>24</td>\n",
       "      <td>FILLMORE ST 2400</td>\n",
       "      <td>Pilot</td>\n",
       "      <td>Fillmore</td>\n",
       "      <td>NaN</td>\n",
       "      <td>01-jul-2012 22:00:00</td>\n",
       "      <td>64800</td>\n",
       "      <td>27576</td>\n",
       "      <td>...</td>\n",
       "      <td>0</td>\n",
       "      <td>0</td>\n",
       "      <td>0</td>\n",
       "      <td>0</td>\n",
       "      <td>0</td>\n",
       "      <td>July</td>\n",
       "      <td>2012</td>\n",
       "      <td>01-jul-2012</td>\n",
       "      <td>weekend</td>\n",
       "      <td>2200</td>\n",
       "    </tr>\n",
       "    <tr>\n",
       "      <th>2</th>\n",
       "      <td>50001</td>\n",
       "      <td>JACKSON ST</td>\n",
       "      <td>1</td>\n",
       "      <td>JACKSON ST 100</td>\n",
       "      <td>Pilot</td>\n",
       "      <td>Downtown</td>\n",
       "      <td>NaN</td>\n",
       "      <td>01-jul-2012 02:00:00</td>\n",
       "      <td>79200</td>\n",
       "      <td>39985</td>\n",
       "      <td>...</td>\n",
       "      <td>0</td>\n",
       "      <td>0</td>\n",
       "      <td>0</td>\n",
       "      <td>0</td>\n",
       "      <td>0</td>\n",
       "      <td>July</td>\n",
       "      <td>2012</td>\n",
       "      <td>01-jul-2012</td>\n",
       "      <td>weekend</td>\n",
       "      <td>200</td>\n",
       "    </tr>\n",
       "    <tr>\n",
       "      <th>3</th>\n",
       "      <td>50002</td>\n",
       "      <td>JACKSON ST</td>\n",
       "      <td>2</td>\n",
       "      <td>JACKSON ST 200</td>\n",
       "      <td>Pilot</td>\n",
       "      <td>Downtown</td>\n",
       "      <td>NaN</td>\n",
       "      <td>01-jul-2012 08:00:00</td>\n",
       "      <td>82800</td>\n",
       "      <td>30465</td>\n",
       "      <td>...</td>\n",
       "      <td>0</td>\n",
       "      <td>0</td>\n",
       "      <td>0</td>\n",
       "      <td>0</td>\n",
       "      <td>0</td>\n",
       "      <td>July</td>\n",
       "      <td>2012</td>\n",
       "      <td>01-jul-2012</td>\n",
       "      <td>weekend</td>\n",
       "      <td>800</td>\n",
       "    </tr>\n",
       "    <tr>\n",
       "      <th>4</th>\n",
       "      <td>10903</td>\n",
       "      <td>09TH AVE</td>\n",
       "      <td>3</td>\n",
       "      <td>09TH AVE 300</td>\n",
       "      <td>Control</td>\n",
       "      <td>Inner Richmond</td>\n",
       "      <td>NaN</td>\n",
       "      <td>01-jul-2012 08:00:00</td>\n",
       "      <td>93600</td>\n",
       "      <td>85690</td>\n",
       "      <td>...</td>\n",
       "      <td>0</td>\n",
       "      <td>0</td>\n",
       "      <td>0</td>\n",
       "      <td>0</td>\n",
       "      <td>0</td>\n",
       "      <td>July</td>\n",
       "      <td>2012</td>\n",
       "      <td>01-jul-2012</td>\n",
       "      <td>weekend</td>\n",
       "      <td>800</td>\n",
       "    </tr>\n",
       "  </tbody>\n",
       "</table>\n",
       "<p>5 rows × 33 columns</p>\n",
       "</div>"
      ],
      "text/plain": [
       "   BLOCK_ID  STREET_NAME  BLOCK_NUM      STREET_BLOCK AREA_TYPE  \\\n",
       "0     41522  FILLMORE ST         22  FILLMORE ST 2200     Pilot   \n",
       "1     41524  FILLMORE ST         24  FILLMORE ST 2400     Pilot   \n",
       "2     50001   JACKSON ST          1    JACKSON ST 100     Pilot   \n",
       "3     50002   JACKSON ST          2    JACKSON ST 200     Pilot   \n",
       "4     10903     09TH AVE          3      09TH AVE 300   Control   \n",
       "\n",
       "  PM_DISTRICT_NAME  RATE         START_TIME_DT  TOTAL_TIME  \\\n",
       "0         Fillmore   NaN  01-jul-2012 21:00:00       61200   \n",
       "1         Fillmore   NaN  01-jul-2012 22:00:00       64800   \n",
       "2         Downtown   NaN  01-jul-2012 02:00:00       79200   \n",
       "3         Downtown   NaN  01-jul-2012 08:00:00       82800   \n",
       "4   Inner Richmond   NaN  01-jul-2012 08:00:00       93600   \n",
       "\n",
       "   TOTAL_OCCUPIED_TIME     ...       GMP_UNKNOWN_TIME  COMM_TIME  \\\n",
       "0                35847     ...                      0          0   \n",
       "1                27576     ...                      0          0   \n",
       "2                39985     ...                      0          0   \n",
       "3                30465     ...                      0          0   \n",
       "4                85690     ...                      0          0   \n",
       "\n",
       "   COMM_OCCUPIED_TIME  COMM_VACANT_TIME  COMM_UNKNOWN_TIME  CAL_MONTH_NAME  \\\n",
       "0                   0                 0                  0       July        \n",
       "1                   0                 0                  0       July        \n",
       "2                   0                 0                  0       July        \n",
       "3                   0                 0                  0       July        \n",
       "4                   0                 0                  0       July        \n",
       "\n",
       "   CAL_YEAR     CAL_DATE  DAY_TYPE  TIME_OF_DAY  \n",
       "0      2012  01-jul-2012   weekend         2100  \n",
       "1      2012  01-jul-2012   weekend         2200  \n",
       "2      2012  01-jul-2012   weekend          200  \n",
       "3      2012  01-jul-2012   weekend          800  \n",
       "4      2012  01-jul-2012   weekend          800  \n",
       "\n",
       "[5 rows x 33 columns]"
      ]
     },
     "execution_count": 6,
     "metadata": {},
     "output_type": "execute_result"
    }
   ],
   "source": [
    "snsr.head()"
   ]
  },
  {
   "cell_type": "markdown",
   "metadata": {},
   "source": [
    "### Swap the BLOCKS and STREET order - test on sample"
   ]
  },
  {
   "cell_type": "code",
   "execution_count": 8,
   "metadata": {},
   "outputs": [
    {
     "data": {
      "text/html": [
       "<div>\n",
       "<style scoped>\n",
       "    .dataframe tbody tr th:only-of-type {\n",
       "        vertical-align: middle;\n",
       "    }\n",
       "\n",
       "    .dataframe tbody tr th {\n",
       "        vertical-align: top;\n",
       "    }\n",
       "\n",
       "    .dataframe thead th {\n",
       "        text-align: right;\n",
       "    }\n",
       "</style>\n",
       "<table border=\"1\" class=\"dataframe\">\n",
       "  <thead>\n",
       "    <tr style=\"text-align: right;\">\n",
       "      <th></th>\n",
       "      <th>search</th>\n",
       "      <th>BLOCK_ID</th>\n",
       "    </tr>\n",
       "  </thead>\n",
       "  <tbody>\n",
       "    <tr>\n",
       "      <th>0</th>\n",
       "      <td>0 1ST ST</td>\n",
       "      <td>273</td>\n",
       "    </tr>\n",
       "    <tr>\n",
       "      <th>1</th>\n",
       "      <td>0 2ND ST</td>\n",
       "      <td>239</td>\n",
       "    </tr>\n",
       "    <tr>\n",
       "      <th>2</th>\n",
       "      <td>0 AVILA ST</td>\n",
       "      <td>245</td>\n",
       "    </tr>\n",
       "    <tr>\n",
       "      <th>3</th>\n",
       "      <td>0 BARTLETT ST</td>\n",
       "      <td>233</td>\n",
       "    </tr>\n",
       "    <tr>\n",
       "      <th>4</th>\n",
       "      <td>0 BEALE ST</td>\n",
       "      <td>237</td>\n",
       "    </tr>\n",
       "    <tr>\n",
       "      <th>5</th>\n",
       "      <td>0 CLEMENT ST</td>\n",
       "      <td>245</td>\n",
       "    </tr>\n",
       "    <tr>\n",
       "      <th>6</th>\n",
       "      <td>0 DAVIS ST</td>\n",
       "      <td>273</td>\n",
       "    </tr>\n",
       "    <tr>\n",
       "      <th>7</th>\n",
       "      <td>0 DRUMM ST</td>\n",
       "      <td>296</td>\n",
       "    </tr>\n",
       "    <tr>\n",
       "      <th>8</th>\n",
       "      <td>0 EMBARCADERO NORTH</td>\n",
       "      <td>277</td>\n",
       "    </tr>\n",
       "    <tr>\n",
       "      <th>9</th>\n",
       "      <td>0 EMBARCADERO SOUTH</td>\n",
       "      <td>274</td>\n",
       "    </tr>\n",
       "  </tbody>\n",
       "</table>\n",
       "</div>"
      ],
      "text/plain": [
       "                search  BLOCK_ID\n",
       "0             0 1ST ST       273\n",
       "1             0 2ND ST       239\n",
       "2           0 AVILA ST       245\n",
       "3        0 BARTLETT ST       233\n",
       "4           0 BEALE ST       237\n",
       "5         0 CLEMENT ST       245\n",
       "6           0 DAVIS ST       273\n",
       "7           0 DRUMM ST       296\n",
       "8  0 EMBARCADERO NORTH       277\n",
       "9  0 EMBARCADERO SOUTH       274"
      ]
     },
     "execution_count": 8,
     "metadata": {},
     "output_type": "execute_result"
    }
   ],
   "source": [
    "def reorder_street_block(strr):\n",
    "    num = strr.split(' ')[-1]\n",
    "    rest = ' '.join(strr.split(' ')[:-1])\n",
    "    if rest[0] == '0':\n",
    "        rest = rest[1:]\n",
    "    return('%s %s' % (num, rest))\n",
    "\n",
    "snsr['search'] = snsr['STREET_BLOCK'].map(lambda x : reorder_street_block(x))\n",
    "snsr.groupby(['search'])['BLOCK_ID'].count().reset_index().head(10)"
   ]
  },
  {
   "cell_type": "markdown",
   "metadata": {},
   "source": [
    "### Load all the sensor data"
   ]
  },
  {
   "cell_type": "code",
   "execution_count": 9,
   "metadata": {},
   "outputs": [],
   "source": [
    "all_ = pd.read_csv('/Users/timlee/data/sf_parking/ParkingSensorData.csv', low_memory=False)"
   ]
  },
  {
   "cell_type": "code",
   "execution_count": 10,
   "metadata": {},
   "outputs": [
    {
     "data": {
      "text/plain": [
       "(7902291, 33)"
      ]
     },
     "execution_count": 10,
     "metadata": {},
     "output_type": "execute_result"
    }
   ],
   "source": [
    "all_.shape"
   ]
  },
  {
   "cell_type": "markdown",
   "metadata": {},
   "source": [
    "### Group by STREET_BLOCK to make the conversion as fast as possible"
   ]
  },
  {
   "cell_type": "code",
   "execution_count": 20,
   "metadata": {
    "collapsed": true
   },
   "outputs": [],
   "source": [
    "#all_['search'] = all_['STREET_BLOCK'].map(lambda x : reorder_street_block(x))\n",
    "street_blocks = all_.groupby(['STREET_BLOCK'])['BLOCK_ID'].count().reset_index()"
   ]
  },
  {
   "cell_type": "markdown",
   "metadata": {},
   "source": [
    "### Map our reorder street block"
   ]
  },
  {
   "cell_type": "code",
   "execution_count": 23,
   "metadata": {
    "collapsed": true
   },
   "outputs": [],
   "source": [
    "street_blocks['search'] = street_blocks['STREET_BLOCK'].map(lambda x : reorder_street_block(x))"
   ]
  },
  {
   "cell_type": "markdown",
   "metadata": {
    "collapsed": true
   },
   "source": [
    "### Now have to plug these reordered address into Scraper to get GPS coordinates"
   ]
  },
  {
   "cell_type": "code",
   "execution_count": null,
   "metadata": {
    "collapsed": true
   },
   "outputs": [],
   "source": []
  }
 ],
 "metadata": {
  "kernelspec": {
   "display_name": "Python 3",
   "language": "python",
   "name": "python3"
  },
  "language_info": {
   "codemirror_mode": {
    "name": "ipython",
    "version": 3
   },
   "file_extension": ".py",
   "mimetype": "text/x-python",
   "name": "python",
   "nbconvert_exporter": "python",
   "pygments_lexer": "ipython3",
   "version": "3.6.3"
  }
 },
 "nbformat": 4,
 "nbformat_minor": 2
}
