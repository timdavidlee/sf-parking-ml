{
 "cells": [
  {
   "cell_type": "code",
   "execution_count": 1,
   "metadata": {
    "collapsed": true
   },
   "outputs": [],
   "source": [
    "import pandas as pd\n",
    "import numpy as np\n",
    "import re\n",
    "import xgboost as xgb\n",
    "from sklearn.model_selection import train_test_split\n",
    "from haversine import haversine\n",
    "from sklearn.metrics import fbeta_score, precision_score, recall_score\n",
    "\n",
    "import matplotlib.pyplot as plt\n",
    "%matplotlib inline\n",
    "from common import load_clean_train, load_clean_test, load_midpoint_id, \\\n",
    "    extract_dates, add_midpoint_loc_id, tt_join_city_stats2clean, load_clean_parking,\\\n",
    "    add_yelp, add_parking_vecs, get_XY, premodel_formating2"
   ]
  },
  {
   "cell_type": "code",
   "execution_count": 2,
   "metadata": {},
   "outputs": [
    {
     "name": "stdout",
     "output_type": "stream",
     "text": [
      "(1100, 18) (726, 16)\n",
      "(1100, 26) (726, 24)\n",
      "(1100, 27) (726, 25)\n",
      "(1100, 31) (726, 29)\n",
      "(1100, 316) (726, 314)\n",
      "(1100, 340) (726, 338)\n"
     ]
    }
   ],
   "source": [
    "train_df = load_clean_train()\n",
    "test_df = load_clean_test()\n",
    "print(train_df.shape, test_df.shape)\n",
    "\n",
    "train_df = extract_dates(train_df)\n",
    "simple = train_df.copy()\n",
    "test_df = extract_dates(test_df)\n",
    "simple_test = test_df.copy()\n",
    "print(train_df.shape, test_df.shape)\n",
    "\n",
    "train_df = add_midpoint_loc_id(train_df)\n",
    "test_df = add_midpoint_loc_id(test_df)\n",
    "print(train_df.shape, test_df.shape)\n",
    "\n",
    "train_df = tt_join_city_stats2clean(train_df)\n",
    "test_df = tt_join_city_stats2clean(test_df)\n",
    "print(train_df.shape, test_df.shape)\n",
    "\n",
    "train_df = add_yelp(train_df)\n",
    "test_df = add_yelp(test_df)\n",
    "print(train_df.shape, test_df.shape)\n",
    "\n",
    "train_df = add_parking_vecs(train_df)\n",
    "test_df = add_parking_vecs(test_df)\n",
    "print(train_df.shape, test_df.shape)\n",
    "\n"
   ]
  },
  {
   "cell_type": "code",
   "execution_count": 8,
   "metadata": {},
   "outputs": [
    {
     "data": {
      "text/plain": [
       "<matplotlib.collections.PathCollection at 0x115a86e48>"
      ]
     },
     "execution_count": 8,
     "metadata": {},
     "output_type": "execute_result"
    },
    {
     "data": {
      "image/png": "[encoded data removed]",
      "text/plain": [
       "<matplotlib.figure.Figure at 0x11553ae80>"
      ]
     },
     "metadata": {},
     "output_type": "display_data"
    }
   ],
   "source": [
    "fig = plt.figure(figsize=(11,11))\n",
    "plt.scatter(train_df['lat_mid_y'], train_df['lng_mid_y'])"
   ]
  },
  {
   "cell_type": "code",
   "execution_count": null,
   "metadata": {
    "collapsed": true
   },
   "outputs": [],
   "source": []
  }
 ],
 "metadata": {
  "kernelspec": {
   "display_name": "Python 3",
   "language": "python",
   "name": "python3"
  },
  "language_info": {
   "codemirror_mode": {
    "name": "ipython",
    "version": 3
   },
   "file_extension": ".py",
   "mimetype": "text/x-python",
   "name": "python",
   "nbconvert_exporter": "python",
   "pygments_lexer": "ipython3",
   "version": "3.6.3"
  }
 },
 "nbformat": 4,
 "nbformat_minor": 2
}
