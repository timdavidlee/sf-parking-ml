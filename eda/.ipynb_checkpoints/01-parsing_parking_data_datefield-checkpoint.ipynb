{
 "cells": [
  {
   "cell_type": "markdown",
   "metadata": {},
   "source": [
    "## Changing the Parking Data Datefield "
   ]
  },
  {
   "cell_type": "code",
   "execution_count": 2,
   "metadata": {
    "collapsed": true
   },
   "outputs": [],
   "source": [
    "import sys\n",
    "import datetime as dt\n",
    "sys.path.append('../')\n",
    "from common import *"
   ]
  },
  {
   "cell_type": "code",
   "execution_count": 3,
   "metadata": {},
   "outputs": [
    {
     "name": "stdout",
     "output_type": "stream",
     "text": [
      "loading cached copy\n",
      "Time it took: 3.1238291263580322\n"
     ]
    }
   ],
   "source": [
    "parking_df = get_parking()"
   ]
  },
  {
   "cell_type": "code",
   "execution_count": 4,
   "metadata": {},
   "outputs": [
    {
     "data": {
      "text/html": [
       "<div>\n",
       "<style scoped>\n",
       "    .dataframe tbody tr th:only-of-type {\n",
       "        vertical-align: middle;\n",
       "    }\n",
       "\n",
       "    .dataframe tbody tr th {\n",
       "        vertical-align: top;\n",
       "    }\n",
       "\n",
       "    .dataframe thead th {\n",
       "        text-align: right;\n",
       "    }\n",
       "</style>\n",
       "<table border=\"1\" class=\"dataframe\">\n",
       "  <thead>\n",
       "    <tr style=\"text-align: right;\">\n",
       "      <th></th>\n",
       "      <th>lat</th>\n",
       "      <th>lon</th>\n",
       "      <th>datetime</th>\n",
       "      <th>id</th>\n",
       "      <th>parking_idx</th>\n",
       "      <th>addr_idx</th>\n",
       "      <th>min_join_dist</th>\n",
       "      <th>full_addr</th>\n",
       "      <th>jlat</th>\n",
       "      <th>jlon</th>\n",
       "      <th>nhood</th>\n",
       "      <th>road</th>\n",
       "      <th>zipcode</th>\n",
       "    </tr>\n",
       "  </thead>\n",
       "  <tbody>\n",
       "    <tr>\n",
       "      <th>0</th>\n",
       "      <td>37.771637</td>\n",
       "      <td>-122.437112</td>\n",
       "      <td>1471967637400</td>\n",
       "      <td>8710</td>\n",
       "      <td>8710</td>\n",
       "      <td>9914</td>\n",
       "      <td>-14</td>\n",
       "      <td>272, Divisadero Street, Western Addition, SF, ...</td>\n",
       "      <td>37.771706</td>\n",
       "      <td>-122.436866</td>\n",
       "      <td>Western Addition</td>\n",
       "      <td>Divisadero Street</td>\n",
       "      <td>94114</td>\n",
       "    </tr>\n",
       "    <tr>\n",
       "      <th>1</th>\n",
       "      <td>37.777229</td>\n",
       "      <td>-122.465370</td>\n",
       "      <td>1459821377952</td>\n",
       "      <td>11364</td>\n",
       "      <td>11364</td>\n",
       "      <td>12568</td>\n",
       "      <td>-14</td>\n",
       "      <td>616, Balboa Street, Richmond District, SF, Cal...</td>\n",
       "      <td>37.777254</td>\n",
       "      <td>-122.465370</td>\n",
       "      <td>Richmond District</td>\n",
       "      <td>Balboa Street</td>\n",
       "      <td>94118</td>\n",
       "    </tr>\n",
       "    <tr>\n",
       "      <th>2</th>\n",
       "      <td>37.771172</td>\n",
       "      <td>-122.437683</td>\n",
       "      <td>1461349554900</td>\n",
       "      <td>8478</td>\n",
       "      <td>8478</td>\n",
       "      <td>9682</td>\n",
       "      <td>-14</td>\n",
       "      <td>904, Haight Street, Haight-Ashbury, SF, Califo...</td>\n",
       "      <td>37.771429</td>\n",
       "      <td>-122.437393</td>\n",
       "      <td>Haight-Ashbury</td>\n",
       "      <td>Haight Street</td>\n",
       "      <td>94117</td>\n",
       "    </tr>\n",
       "    <tr>\n",
       "      <th>3</th>\n",
       "      <td>37.777328</td>\n",
       "      <td>-122.465012</td>\n",
       "      <td>1462252229600</td>\n",
       "      <td>11458</td>\n",
       "      <td>11458</td>\n",
       "      <td>12662</td>\n",
       "      <td>-14</td>\n",
       "      <td>596, 7th Avenue, Richmond District, SF, Califo...</td>\n",
       "      <td>37.777346</td>\n",
       "      <td>-122.464977</td>\n",
       "      <td>Richmond District</td>\n",
       "      <td>7th Avenue</td>\n",
       "      <td>94118</td>\n",
       "    </tr>\n",
       "    <tr>\n",
       "      <th>4</th>\n",
       "      <td>37.778664</td>\n",
       "      <td>-122.464111</td>\n",
       "      <td>1463364111300</td>\n",
       "      <td>12038</td>\n",
       "      <td>12038</td>\n",
       "      <td>13242</td>\n",
       "      <td>-14</td>\n",
       "      <td>Pedro Arrupe Hall, 490, 6th Avenue, Presidio T...</td>\n",
       "      <td>37.779361</td>\n",
       "      <td>-122.463980</td>\n",
       "      <td>Presidio Terrace</td>\n",
       "      <td>6th Avenue</td>\n",
       "      <td>94118</td>\n",
       "    </tr>\n",
       "  </tbody>\n",
       "</table>\n",
       "</div>"
      ],
      "text/plain": [
       "         lat         lon       datetime     id  parking_idx  addr_idx  \\\n",
       "0  37.771637 -122.437112  1471967637400   8710         8710      9914   \n",
       "1  37.777229 -122.465370  1459821377952  11364        11364     12568   \n",
       "2  37.771172 -122.437683  1461349554900   8478         8478      9682   \n",
       "3  37.777328 -122.465012  1462252229600  11458        11458     12662   \n",
       "4  37.778664 -122.464111  1463364111300  12038        12038     13242   \n",
       "\n",
       "   min_join_dist                                          full_addr  \\\n",
       "0            -14  272, Divisadero Street, Western Addition, SF, ...   \n",
       "1            -14  616, Balboa Street, Richmond District, SF, Cal...   \n",
       "2            -14  904, Haight Street, Haight-Ashbury, SF, Califo...   \n",
       "3            -14  596, 7th Avenue, Richmond District, SF, Califo...   \n",
       "4            -14  Pedro Arrupe Hall, 490, 6th Avenue, Presidio T...   \n",
       "\n",
       "        jlat        jlon              nhood               road zipcode  \n",
       "0  37.771706 -122.436866   Western Addition  Divisadero Street   94114  \n",
       "1  37.777254 -122.465370  Richmond District      Balboa Street   94118  \n",
       "2  37.771429 -122.437393     Haight-Ashbury      Haight Street   94117  \n",
       "3  37.777346 -122.464977  Richmond District         7th Avenue   94118  \n",
       "4  37.779361 -122.463980   Presidio Terrace         6th Avenue   94118  "
      ]
     },
     "execution_count": 4,
     "metadata": {},
     "output_type": "execute_result"
    }
   ],
   "source": [
    "parking_df.head()"
   ]
  },
  {
   "cell_type": "code",
   "execution_count": 5,
   "metadata": {},
   "outputs": [
    {
     "data": {
      "text/plain": [
       "0         2016-08-23 08:53:57.400\n",
       "1         2016-04-04 18:56:17.952\n",
       "2         2016-04-22 11:25:54.900\n",
       "3         2016-05-02 22:10:29.600\n",
       "4         2016-05-15 19:01:51.300\n",
       "5         2016-05-15 19:05:41.700\n",
       "6         2016-05-24 08:07:02.300\n",
       "7         2016-05-19 09:41:54.000\n",
       "8         2016-05-30 10:45:10.000\n",
       "9         2016-06-01 15:35:17.900\n",
       "10        2016-06-04 11:58:34.600\n",
       "11        2016-06-06 15:49:38.100\n",
       "12        2016-06-12 22:26:25.200\n",
       "13        2016-06-28 16:04:16.300\n",
       "14        2016-06-28 17:04:59.800\n",
       "15        2016-06-29 08:34:42.200\n",
       "16        2016-06-30 09:04:24.500\n",
       "17        2016-07-01 13:51:36.000\n",
       "18        2016-07-04 20:26:32.325\n",
       "19        2016-07-15 17:21:35.399\n",
       "20        2016-07-15 18:14:55.300\n",
       "21        2016-07-16 18:56:58.399\n",
       "22        2016-07-18 08:59:07.800\n",
       "23        2016-07-25 09:25:55.500\n",
       "24        2016-07-27 20:40:42.900\n",
       "25        2016-07-31 15:44:09.700\n",
       "26        2016-08-03 18:56:34.400\n",
       "27        2016-08-04 19:41:17.600\n",
       "28        2016-08-02 15:57:15.100\n",
       "29        2016-08-21 15:10:55.800\n",
       "                    ...          \n",
       "1761298   2017-09-19 13:48:33.000\n",
       "1761299   2017-09-19 14:14:01.000\n",
       "1761300   2017-09-19 14:51:06.000\n",
       "1761301   2017-09-19 15:05:54.000\n",
       "1761302   2017-09-19 15:19:13.000\n",
       "1761303   2017-09-19 15:31:31.000\n",
       "1761304   2017-09-19 18:08:16.000\n",
       "1761305   2017-09-19 18:34:49.000\n",
       "1761306   2017-09-19 21:04:15.000\n",
       "1761307   2017-09-19 21:19:31.000\n",
       "1761308   2017-09-19 21:24:23.000\n",
       "1761309   2017-09-19 21:50:20.000\n",
       "1761310   2017-09-20 13:53:39.000\n",
       "1761311   2017-09-20 13:54:44.000\n",
       "1761312   2017-09-20 14:02:33.000\n",
       "1761313   2017-09-20 14:31:51.000\n",
       "1761314   2017-09-20 14:34:33.000\n",
       "1761315   2017-09-20 14:37:09.000\n",
       "1761316   2017-09-20 14:50:39.000\n",
       "1761317   2017-09-20 15:00:35.000\n",
       "1761318   2017-09-20 15:28:24.000\n",
       "1761319   2017-09-20 16:59:49.000\n",
       "1761320   2017-09-20 17:14:16.000\n",
       "1761321   2017-09-20 19:13:10.000\n",
       "1761322   2017-09-20 19:17:01.000\n",
       "1761323   2017-09-20 19:21:52.000\n",
       "1761324   2017-09-20 19:23:51.000\n",
       "1761325   2017-09-20 21:56:35.000\n",
       "1761326   2017-09-20 22:01:33.000\n",
       "1761327   2017-09-21 12:39:33.000\n",
       "Name: datetime, Length: 1761328, dtype: datetime64[ns]"
      ]
     },
     "execution_count": 5,
     "metadata": {},
     "output_type": "execute_result"
    }
   ],
   "source": [
    "parking_df['datetime'].map(lambda x : dt.datetime.fromtimestamp(x/1000.0))\n"
   ]
  },
  {
   "cell_type": "code",
   "execution_count": null,
   "metadata": {
    "collapsed": true
   },
   "outputs": [],
   "source": []
  }
 ],
 "metadata": {
  "kernelspec": {
   "display_name": "Python 3",
   "language": "python",
   "name": "python3"
  },
  "language_info": {
   "codemirror_mode": {
    "name": "ipython",
    "version": 3
   },
   "file_extension": ".py",
   "mimetype": "text/x-python",
   "name": "python",
   "nbconvert_exporter": "python",
   "pygments_lexer": "ipython3",
   "version": "3.6.3"
  }
 },
 "nbformat": 4,
 "nbformat_minor": 2
}
