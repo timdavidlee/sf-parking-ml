{
 "cells": [
  {
   "cell_type": "code",
   "execution_count": 26,
   "metadata": {
    "collapsed": true
   },
   "outputs": [],
   "source": [
    "import pandas as pd\n",
    "import sys\n",
    "sys.path.append('../')\n",
    "from common import get_train"
   ]
  },
  {
   "cell_type": "code",
   "execution_count": 3,
   "metadata": {},
   "outputs": [
    {
     "name": "stdout",
     "output_type": "stream",
     "text": [
      "Time it took: 0.13542985916137695\n"
     ]
    }
   ],
   "source": [
    "train = get_train()"
   ]
  },
  {
   "cell_type": "code",
   "execution_count": null,
   "metadata": {
    "collapsed": true
   },
   "outputs": [],
   "source": [
    "### look for "
   ]
  },
  {
   "cell_type": "code",
   "execution_count": 35,
   "metadata": {},
   "outputs": [],
   "source": [
    "b = train[(train['Street']==train['To']) | (train['Street']==train['From'])].sort_values(by=['Street','From','To'])"
   ]
  },
  {
   "cell_type": "code",
   "execution_count": 53,
   "metadata": {},
   "outputs": [
    {
     "data": {
      "text/plain": [
       "(300, 8)"
      ]
     },
     "execution_count": 53,
     "metadata": {},
     "output_type": "execute_result"
    }
   ],
   "source": [
    "b.shape"
   ]
  },
  {
   "cell_type": "code",
   "execution_count": 38,
   "metadata": {},
   "outputs": [
    {
     "data": {
      "text/plain": [
       "{'Geary Street,Jones Street,Geary Street',\n",
       " 'Jones Street,Sutter Street,Jones Street',\n",
       " 'Kearny Street,Kearny Street,Columbus Avenue',\n",
       " 'Kearny Street,Kearny Street,Post Street',\n",
       " 'Kearny Street,Kearny Street,Sutter Street',\n",
       " 'Larkin Street,Larkin Street,Golden Gate Avenue',\n",
       " \"Larkin Street,O'Farrell Street,Larkin Street\",\n",
       " 'Larkin Street,Sutter Street,Larkin Street',\n",
       " 'Mason Street,Sutter Street,Mason Street',\n",
       " 'Mission Street,11th Street,Mission Street',\n",
       " 'Montgomery Street,Jackson Street,Montgomery Street',\n",
       " 'Montgomery Street,Montgomery Street,Jackson Street',\n",
       " 'Montgomery Street,Washington Street,Montgomery Street',\n",
       " 'Post Street,Kearny Street,Post Street',\n",
       " 'Stockton Street,Stockton Street,Jackson Street',\n",
       " 'Stockton Street,Stockton Tunnel,Stockton Street',\n",
       " 'Sutter Street,Powell Street,Sutter Street',\n",
       " 'Van Ness Avenue,Golden Gate Avenue,Van Ness Avenue',\n",
       " 'Van Ness Avenue,Hayes Street,Van Ness Avenue',\n",
       " 'Van Ness Avenue,McAllister Street,Van Ness Avenue',\n",
       " 'Van Ness Avenue,Van Ness Avenue,Bush Street',\n",
       " 'Van Ness Avenue,Van Ness Avenue,Eddy Street',\n",
       " 'Van Ness Avenue,Van Ness Avenue,Fell Street',\n",
       " 'Van Ness Avenue,Van Ness Avenue,Golden Gate Avenue',\n",
       " 'Van Ness Avenue,Van Ness Avenue,Grove Street',\n",
       " 'Van Ness Avenue,Van Ness Avenue,Turk Street'}"
      ]
     },
     "execution_count": 38,
     "metadata": {},
     "output_type": "execute_result"
    }
   ],
   "source": [
    "set([','.join(list(x)) for x in  b[['Street','From','To']].values])"
   ]
  },
  {
   "cell_type": "code",
   "execution_count": 52,
   "metadata": {
    "scrolled": true
   },
   "outputs": [
    {
     "data": {
      "text/plain": [
       "{'Mission Street,11th Street,Mission Street',\n",
       " 'Mission Street,25th Street,26th Street',\n",
       " 'Mission Street,6th Street,7th Street',\n",
       " \"Mission Street,Julia Street,Angelo's Alley\"}"
      ]
     },
     "execution_count": 52,
     "metadata": {},
     "output_type": "execute_result"
    }
   ],
   "source": [
    "set([','.join(list(x)) for x in  train.loc[train.Street == 'Mission Street',['Street','From','To']].values])"
   ]
  },
  {
   "cell_type": "code",
   "execution_count": 54,
   "metadata": {
    "collapsed": true
   },
   "outputs": [],
   "source": [
    "bb = {'Geary Street,Jones Street,Geary Street':'Geary Street,Jones Street,Leavenworth Street',\n",
    " 'Jones Street,Sutter Street,Jones Street': 'Jones Street,Sutter Street,Post Street',\n",
    " 'Kearny Street,Kearny Street,Columbus Avenue': 'Kearny Street,Jackson Street,Columbus Avenue',\n",
    " 'Kearny Street,Kearny Street,Post Street': 'Kearny Street,Maidne Lane,Post Street',\n",
    " 'Kearny Street,Kearny Street,Sutter Street': 'Kearny Street,Post Street,Sutter Street',\n",
    " 'Larkin Street,Larkin Street,Golden Gate Avenue': 'Larkin Street,Fulton Street,Golden Gate Avenue',\n",
    " \"Larkin Street,O'Farrell Street,Larkin Street\": \"Larkin Street,O'Farrell Street,Myrtle Street\",\n",
    " 'Larkin Street,Sutter Street,Larkin Street': 'Larkin Street,Sutter Street,Bush Street',\n",
    " 'Mason Street,Sutter Street,Mason Street': 'Mason Street,Sutter Street,Bush Street',\n",
    " 'Mission Street,11th Street,Mission Street': 'Mission Street,11th Street,12th Street',\n",
    " 'Montgomery Street,Jackson Street,Montgomery Street': 'Montgomery Street,Jackson Street,Washington Street',\n",
    " 'Montgomery Street,Montgomery Street,Jackson Street': 'Montgomery Street,Pacific Avenue,Jackson Street',\n",
    " 'Montgomery Street,Washington Street,Montgomery Street': 'Montgomery Street,Washington Street,Clay Street',\n",
    " 'Post Street,Kearny Street,Post Street': 'Post Street,Kearny Street,Montgomery Street',\n",
    " 'Stockton Street,Stockton Street,Jackson Street': 'Stockton Street,Washington Street,Jackson Street',\n",
    " 'Stockton Street,Stockton Tunnel,Stockton Street': 'Stockton Street,Stockton Tunnel,Clay Street',\n",
    " 'Sutter Street,Powell Street,Sutter Street': 'Sutter Street,Powell Street,Mason Street',\n",
    " 'Van Ness Avenue,Golden Gate Avenue,Van Ness Avenue': 'Van Ness Avenue,Golden Gate Avenue,Turk Street',\n",
    " 'Van Ness Avenue,Hayes Street,Van Ness Avenue': 'Van Ness Avenue,Hayes Street,Grove Street',\n",
    " 'Van Ness Avenue,McAllister Street,Van Ness Avenue': 'Van Ness Avenue,McAllister Street,Golden Gate Avenue',\n",
    " 'Van Ness Avenue,Van Ness Avenue,Bush Street': 'Van Ness Avenue,Sutter Avenue,Bush Street',\n",
    " 'Van Ness Avenue,Van Ness Avenue,Eddy Street': 'Van Ness Avenue,Turk Street,Eddy Street',\n",
    " 'Van Ness Avenue,Van Ness Avenue,Fell Street': 'Van Ness Avenue,Oak Street,Fell Street',\n",
    " 'Van Ness Avenue,Van Ness Avenue,Golden Gate Avenue': 'Van Ness Avenue,McAllister Street,Golden Gate Avenue',\n",
    " 'Van Ness Avenue,Van Ness Avenue,Grove Street': 'Van Ness Avenue,Hayes Street,Grove Street',\n",
    " 'Van Ness Avenue,Van Ness Avenue,Turk Street': 'Van Ness Avenue,Golden Gate Avenue,Turk Street'}"
   ]
  },
  {
   "cell_type": "code",
   "execution_count": null,
   "metadata": {
    "collapsed": true
   },
   "outputs": [],
   "source": []
  }
 ],
 "metadata": {
  "kernelspec": {
   "display_name": "Python 3",
   "language": "python",
   "name": "python3"
  },
  "language_info": {
   "codemirror_mode": {
    "name": "ipython",
    "version": 3
   },
   "file_extension": ".py",
   "mimetype": "text/x-python",
   "name": "python",
   "nbconvert_exporter": "python",
   "pygments_lexer": "ipython3",
   "version": "3.6.3"
  }
 },
 "nbformat": 4,
 "nbformat_minor": 2
}
