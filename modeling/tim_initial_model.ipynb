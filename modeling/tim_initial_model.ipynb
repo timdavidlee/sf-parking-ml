{
 "cells": [
  {
   "cell_type": "code",
   "execution_count": 1,
   "metadata": {},
   "outputs": [],
   "source": [
    "from sklearn.ensemble import RandomForestClassifier\n",
    "from xgboost import XGBClassifier\n",
    "import matplotlib.pyplot as plt\n",
    "from sklearn.model_selection import train_test_split\n",
    "from sklearn.metrics import fbeta_score\n",
    "from common import get_train, get_test, get_parking, feat_eng, premodel_formating, mean_target_enc, get_XY\n",
    "import pandas as pd\n",
    "\n",
    "%matplotlib inline"
   ]
  },
  {
   "cell_type": "code",
   "execution_count": 2,
   "metadata": {},
   "outputs": [
    {
     "name": "stdout",
     "output_type": "stream",
     "text": [
      "Time it took: 0.1554431915283203\n",
      "Time it took: 0.09683775901794434\n",
      "adding additional features to test and/or train ...\n",
      "\n",
      "loading parking data 1.7M\n",
      "loading address data 30K\n",
      "calculating closest joins\n",
      "merging\n",
      "complete\n",
      "fixing neighborhood string formatting\n",
      "merging in neighborhood information\n",
      "Time it took: 0.6325128078460693\n",
      "adding additional features to test and/or train ...\n",
      "\n",
      "loading parking data 1.7M\n",
      "loading address data 30K\n",
      "calculating closest joins\n",
      "merging\n",
      "complete\n",
      "fixing neighborhood string formatting\n",
      "merging in neighborhood information\n",
      "Time it took: 0.4659900665283203\n"
     ]
    }
   ],
   "source": [
    "train_df = get_train()\n",
    "test_df = get_test()\n",
    "\n",
    "train_df = feat_eng(train_df)\n",
    "test_df = feat_eng(test_df)"
   ]
  },
  {
   "cell_type": "code",
   "execution_count": 3,
   "metadata": {},
   "outputs": [
    {
     "data": {
      "text/html": [
       "<div>\n",
       "<style scoped>\n",
       "    .dataframe tbody tr th:only-of-type {\n",
       "        vertical-align: middle;\n",
       "    }\n",
       "\n",
       "    .dataframe tbody tr th {\n",
       "        vertical-align: top;\n",
       "    }\n",
       "\n",
       "    .dataframe thead th {\n",
       "        text-align: right;\n",
       "    }\n",
       "</style>\n",
       "<table border=\"1\" class=\"dataframe\">\n",
       "  <thead>\n",
       "    <tr style=\"text-align: right;\">\n",
       "      <th></th>\n",
       "      <th>Street</th>\n",
       "      <th>From</th>\n",
       "      <th>To</th>\n",
       "      <th>Date</th>\n",
       "      <th>Time</th>\n",
       "      <th>Real.Spots</th>\n",
       "      <th>Street.Length</th>\n",
       "      <th>any_spot</th>\n",
       "      <th>holiday</th>\n",
       "      <th>day</th>\n",
       "      <th>...</th>\n",
       "      <th>apt4_pct</th>\n",
       "      <th>area</th>\n",
       "      <th>f_pop</th>\n",
       "      <th>house_avg_value</th>\n",
       "      <th>house_pct</th>\n",
       "      <th>m_pop</th>\n",
       "      <th>med_age</th>\n",
       "      <th>pop</th>\n",
       "      <th>twn_avg_value</th>\n",
       "      <th>twn_pct</th>\n",
       "    </tr>\n",
       "  </thead>\n",
       "  <tbody>\n",
       "    <tr>\n",
       "      <th>0</th>\n",
       "      <td>Mission Street</td>\n",
       "      <td>25th Street</td>\n",
       "      <td>26th Street</td>\n",
       "      <td>2014-01-07</td>\n",
       "      <td>16:19</td>\n",
       "      <td>4</td>\n",
       "      <td>179.132970</td>\n",
       "      <td>1</td>\n",
       "      <td>0</td>\n",
       "      <td>7</td>\n",
       "      <td>...</td>\n",
       "      <td>12.6</td>\n",
       "      <td>1.049</td>\n",
       "      <td>38.4</td>\n",
       "      <td>972996.0</td>\n",
       "      <td>44.9</td>\n",
       "      <td>39.2</td>\n",
       "      <td>38.4</td>\n",
       "      <td>25825.0</td>\n",
       "      <td>1048521.0</td>\n",
       "      <td>18.5</td>\n",
       "    </tr>\n",
       "    <tr>\n",
       "      <th>1</th>\n",
       "      <td>Polk Street</td>\n",
       "      <td>Ellis Street</td>\n",
       "      <td>Olive Street</td>\n",
       "      <td>2014-01-18</td>\n",
       "      <td>20:42</td>\n",
       "      <td>0</td>\n",
       "      <td>52.740210</td>\n",
       "      <td>0</td>\n",
       "      <td>0</td>\n",
       "      <td>18</td>\n",
       "      <td>...</td>\n",
       "      <td>2.0</td>\n",
       "      <td>0.391</td>\n",
       "      <td>42.5</td>\n",
       "      <td>659375.0</td>\n",
       "      <td>1.6</td>\n",
       "      <td>41.9</td>\n",
       "      <td>42.5</td>\n",
       "      <td>14670.0</td>\n",
       "      <td>718750.0</td>\n",
       "      <td>2.0</td>\n",
       "    </tr>\n",
       "    <tr>\n",
       "      <th>2</th>\n",
       "      <td>Van Ness Avenue</td>\n",
       "      <td>Geary Boulevard</td>\n",
       "      <td>Myrtle Street</td>\n",
       "      <td>2014-01-18</td>\n",
       "      <td>20:39</td>\n",
       "      <td>0</td>\n",
       "      <td>52.517840</td>\n",
       "      <td>0</td>\n",
       "      <td>0</td>\n",
       "      <td>18</td>\n",
       "      <td>...</td>\n",
       "      <td>5.8</td>\n",
       "      <td>0.368</td>\n",
       "      <td>47.1</td>\n",
       "      <td>1407653.0</td>\n",
       "      <td>3.2</td>\n",
       "      <td>40.7</td>\n",
       "      <td>47.1</td>\n",
       "      <td>14331.0</td>\n",
       "      <td>1041250.0</td>\n",
       "      <td>6.6</td>\n",
       "    </tr>\n",
       "    <tr>\n",
       "      <th>3</th>\n",
       "      <td>Van Ness Avenue</td>\n",
       "      <td>Bush Street</td>\n",
       "      <td>Fern Street</td>\n",
       "      <td>2014-01-18</td>\n",
       "      <td>20:38</td>\n",
       "      <td>0</td>\n",
       "      <td>52.405315</td>\n",
       "      <td>0</td>\n",
       "      <td>0</td>\n",
       "      <td>18</td>\n",
       "      <td>...</td>\n",
       "      <td>NaN</td>\n",
       "      <td>0.036</td>\n",
       "      <td>45.9</td>\n",
       "      <td>NaN</td>\n",
       "      <td>NaN</td>\n",
       "      <td>42.2</td>\n",
       "      <td>45.9</td>\n",
       "      <td>1395.0</td>\n",
       "      <td>NaN</td>\n",
       "      <td>NaN</td>\n",
       "    </tr>\n",
       "    <tr>\n",
       "      <th>4</th>\n",
       "      <td>Van Ness Avenue</td>\n",
       "      <td>Daniel Burnham Court</td>\n",
       "      <td>Post Street</td>\n",
       "      <td>2014-01-18</td>\n",
       "      <td>20:38</td>\n",
       "      <td>0</td>\n",
       "      <td>52.191193</td>\n",
       "      <td>0</td>\n",
       "      <td>0</td>\n",
       "      <td>18</td>\n",
       "      <td>...</td>\n",
       "      <td>NaN</td>\n",
       "      <td>0.278</td>\n",
       "      <td>41.5</td>\n",
       "      <td>NaN</td>\n",
       "      <td>NaN</td>\n",
       "      <td>41.2</td>\n",
       "      <td>41.5</td>\n",
       "      <td>9194.0</td>\n",
       "      <td>NaN</td>\n",
       "      <td>NaN</td>\n",
       "    </tr>\n",
       "  </tbody>\n",
       "</table>\n",
       "<p>5 rows × 49 columns</p>\n",
       "</div>"
      ],
      "text/plain": [
       "            Street                  From             To       Date   Time  \\\n",
       "0   Mission Street           25th Street    26th Street 2014-01-07  16:19   \n",
       "1      Polk Street          Ellis Street   Olive Street 2014-01-18  20:42   \n",
       "2  Van Ness Avenue       Geary Boulevard  Myrtle Street 2014-01-18  20:39   \n",
       "3  Van Ness Avenue           Bush Street    Fern Street 2014-01-18  20:38   \n",
       "4  Van Ness Avenue  Daniel Burnham Court    Post Street 2014-01-18  20:38   \n",
       "\n",
       "   Real.Spots  Street.Length  any_spot  holiday  day   ...     apt4_pct  \\\n",
       "0           4     179.132970         1        0    7   ...         12.6   \n",
       "1           0      52.740210         0        0   18   ...          2.0   \n",
       "2           0      52.517840         0        0   18   ...          5.8   \n",
       "3           0      52.405315         0        0   18   ...          NaN   \n",
       "4           0      52.191193         0        0   18   ...          NaN   \n",
       "\n",
       "    area  f_pop  house_avg_value  house_pct  m_pop  med_age      pop  \\\n",
       "0  1.049   38.4         972996.0       44.9   39.2     38.4  25825.0   \n",
       "1  0.391   42.5         659375.0        1.6   41.9     42.5  14670.0   \n",
       "2  0.368   47.1        1407653.0        3.2   40.7     47.1  14331.0   \n",
       "3  0.036   45.9              NaN        NaN   42.2     45.9   1395.0   \n",
       "4  0.278   41.5              NaN        NaN   41.2     41.5   9194.0   \n",
       "\n",
       "   twn_avg_value  twn_pct  \n",
       "0      1048521.0     18.5  \n",
       "1       718750.0      2.0  \n",
       "2      1041250.0      6.6  \n",
       "3            NaN      NaN  \n",
       "4            NaN      NaN  \n",
       "\n",
       "[5 rows x 49 columns]"
      ]
     },
     "execution_count": 3,
     "metadata": {},
     "output_type": "execute_result"
    }
   ],
   "source": [
    "train_df.head()"
   ]
  },
  {
   "cell_type": "code",
   "execution_count": 67,
   "metadata": {},
   "outputs": [
    {
     "name": "stdout",
     "output_type": "stream",
     "text": [
      "(770,) (770, 18) (330,) (330, 18)\n"
     ]
    }
   ],
   "source": [
    "tr, vl = premodel_formating(train_df)\n",
    "y_tr = tr['any_spot'].values\n",
    "y_vl = vl['any_spot'].values\n",
    "X_tr = tr[[col for col in tr.columns if col not in ['any_spot','Real.Spots']]].copy()\n",
    "X_vl = vl[[col for col in tr.columns if col not in ['any_spot','Real.Spots']]].copy()\n",
    "print(y_tr.shape, X_tr.shape, y_vl.shape, X_vl.shape)"
   ]
  },
  {
   "cell_type": "code",
   "execution_count": 68,
   "metadata": {
    "collapsed": true
   },
   "outputs": [],
   "source": [
    "rfc = RandomForestClassifier(n_estimators= 10, max_depth=10)\n",
    "m = rfc.fit(X_tr, y_tr)"
   ]
  },
  {
   "cell_type": "code",
   "execution_count": 69,
   "metadata": {},
   "outputs": [
    {
     "data": {
      "text/plain": [
       "0.90000000000000002"
      ]
     },
     "execution_count": 69,
     "metadata": {},
     "output_type": "execute_result"
    }
   ],
   "source": [
    "m.score(X_tr, y_tr)"
   ]
  },
  {
   "cell_type": "code",
   "execution_count": 70,
   "metadata": {},
   "outputs": [
    {
     "data": {
      "text/plain": [
       "0.72121212121212119"
      ]
     },
     "execution_count": 70,
     "metadata": {},
     "output_type": "execute_result"
    }
   ],
   "source": [
    "m.score(X_vl, y_vl)"
   ]
  },
  {
   "cell_type": "code",
   "execution_count": 71,
   "metadata": {
    "collapsed": true
   },
   "outputs": [],
   "source": [
    "xgc = XGBClassifier(max_depth = 10, n_estimators=200)\n",
    "m =rfc.fit(X_tr, y_tr)"
   ]
  },
  {
   "cell_type": "markdown",
   "metadata": {},
   "source": [
    "#### Training score"
   ]
  },
  {
   "cell_type": "code",
   "execution_count": 72,
   "metadata": {},
   "outputs": [
    {
     "data": {
      "text/plain": [
       "0.92337662337662341"
      ]
     },
     "execution_count": 72,
     "metadata": {},
     "output_type": "execute_result"
    }
   ],
   "source": [
    "m.score(X_tr, y_tr)"
   ]
  },
  {
   "cell_type": "markdown",
   "metadata": {},
   "source": [
    "### Validation Score"
   ]
  },
  {
   "cell_type": "code",
   "execution_count": 73,
   "metadata": {},
   "outputs": [
    {
     "data": {
      "text/plain": [
       "0.72121212121212119"
      ]
     },
     "execution_count": 73,
     "metadata": {},
     "output_type": "execute_result"
    }
   ],
   "source": [
    "m.score(X_vl, y_vl)"
   ]
  },
  {
   "cell_type": "markdown",
   "metadata": {},
   "source": [
    "### F0.5 Beta score"
   ]
  },
  {
   "cell_type": "code",
   "execution_count": 74,
   "metadata": {},
   "outputs": [
    {
     "data": {
      "text/plain": [
       "0.62616822429906549"
      ]
     },
     "execution_count": 74,
     "metadata": {},
     "output_type": "execute_result"
    }
   ],
   "source": [
    "y_hat = m.predict(X_vl)\n",
    "fbeta_score(y_vl, y_hat, beta=0.5)"
   ]
  },
  {
   "cell_type": "code",
   "execution_count": 19,
   "metadata": {
    "collapsed": true
   },
   "outputs": [],
   "source": [
    "def plot_pred_coord(y_true, lat_true, lon_true, y_pred):\n",
    "    \"\"\"\n",
    "    Should have ANY_SPOT, LAT, LON in both datasets\n",
    "    \"\"\"\n",
    "    plot_mask1 = (y_hat == y_vl)\n",
    "    plot_mask2 = (y_hat != y_vl) & (y_vl==0)\n",
    "    plot_mask3 = (y_hat != y_vl) & (y_vl==1)\n",
    "    \n",
    "    plt.figure(figsize=(11,6))\n",
    "    plt.scatter(lat_true[plot_mask1], lon_true[plot_mask1], c = 'g')\n",
    "    plt.scatter(lat_true[plot_mask2], lon_true[plot_mask2], c = 'r')\n",
    "    plt.scatter(lat_true[plot_mask3], lon_true[plot_mask3], c = 'b')"
   ]
  },
  {
   "cell_type": "code",
   "execution_count": 20,
   "metadata": {
    "scrolled": false
   },
   "outputs": [
    {
     "data": {
      "image/png": "[encoded data removed]",
      "text/plain": [
       "<matplotlib.figure.Figure at 0x1a1162c828>"
      ]
     },
     "metadata": {},
     "output_type": "display_data"
    }
   ],
   "source": [
    "plot_pred_coord(y_hat, X_vl['From_lat'].values, X_vl['From_long'].values , y_vl)"
   ]
  },
  {
   "cell_type": "markdown",
   "metadata": {
    "collapsed": true
   },
   "source": [
    "### Prep for submission"
   ]
  },
  {
   "cell_type": "code",
   "execution_count": 14,
   "metadata": {},
   "outputs": [
    {
     "name": "stdout",
     "output_type": "stream",
     "text": [
      "validation or test nulls 75, will fill with 0.4\n",
      "(1100, 24) (726, 22)\n"
     ]
    }
   ],
   "source": [
    "trn = premodel_formating(train_df, split=False)\n",
    "tst = premodel_formating(test_df, split=False, test=True)\n",
    "trn, tst = mean_target_enc(trn, tst)\n",
    "print(trn.shape, tst.shape)"
   ]
  },
  {
   "cell_type": "code",
   "execution_count": 18,
   "metadata": {},
   "outputs": [
    {
     "data": {
      "text/plain": [
       "((1100, 24), (726, 22))"
      ]
     },
     "execution_count": 18,
     "metadata": {},
     "output_type": "execute_result"
    }
   ],
   "source": [
    "trn.shape, tst.shape"
   ]
  },
  {
   "cell_type": "code",
   "execution_count": 21,
   "metadata": {
    "collapsed": true
   },
   "outputs": [],
   "source": [
    "X_tr, y_tr = get_XY(trn)"
   ]
  },
  {
   "cell_type": "code",
   "execution_count": 22,
   "metadata": {},
   "outputs": [
    {
     "name": "stdout",
     "output_type": "stream",
     "text": [
      "<class 'pandas.core.frame.DataFrame'>\n",
      "Int64Index: 1100 entries, 0 to 1099\n",
      "Data columns (total 22 columns):\n",
      "Street.Length       1100 non-null float64\n",
      "holiday             1100 non-null int64\n",
      "dow                 1100 non-null int64\n",
      "mon                 1100 non-null int64\n",
      "hour                1100 non-null int64\n",
      "morn_night          1100 non-null int64\n",
      "From_lat            1100 non-null float64\n",
      "From_long           1100 non-null float64\n",
      "From_zip            1100 non-null int64\n",
      "To_lat              1100 non-null float64\n",
      "To_long             1100 non-null float64\n",
      "To_zip              1100 non-null int64\n",
      "nhood               1100 non-null int64\n",
      "zipcode             1100 non-null int64\n",
      "area                1100 non-null float64\n",
      "f_pop               1100 non-null float64\n",
      "m_pop               1100 non-null float64\n",
      "pop                 1100 non-null float64\n",
      "mean_spot_prob      1100 non-null float64\n",
      "mean_spot_ct        1100 non-null float64\n",
      "z_mean_spot_prob    1100 non-null float64\n",
      "z_mean_spot_ct      1100 non-null float64\n",
      "dtypes: float64(13), int64(9)\n",
      "memory usage: 197.7 KB\n"
     ]
    }
   ],
   "source": [
    "X_tr.info()"
   ]
  },
  {
   "cell_type": "code",
   "execution_count": 23,
   "metadata": {},
   "outputs": [
    {
     "name": "stdout",
     "output_type": "stream",
     "text": [
      "(1100, 22) (1100,)\n"
     ]
    }
   ],
   "source": [
    "print(X_tr.shape, y_tr.shape)"
   ]
  },
  {
   "cell_type": "code",
   "execution_count": 24,
   "metadata": {
    "collapsed": true
   },
   "outputs": [],
   "source": [
    "rfc = RandomForestClassifier(n_estimators= 10, max_depth=10)\n",
    "m = rfc.fit(X_tr, y_tr)"
   ]
  },
  {
   "cell_type": "code",
   "execution_count": 25,
   "metadata": {},
   "outputs": [],
   "source": [
    "xgc = XGBClassifier(max_depth = 5, n_estimators=100)\n",
    "m = xgc.fit(X_tr, y_tr)"
   ]
  },
  {
   "cell_type": "code",
   "execution_count": 26,
   "metadata": {},
   "outputs": [],
   "source": [
    "tst_pred = m.predict(tst)\n",
    "to_sub = pd.DataFrame({'id': range(1, len(tst_pred)+1), 'any_spot': tst_pred})"
   ]
  },
  {
   "cell_type": "code",
   "execution_count": 27,
   "metadata": {},
   "outputs": [
    {
     "data": {
      "text/plain": [
       "(726, 2)"
      ]
     },
     "execution_count": 27,
     "metadata": {},
     "output_type": "execute_result"
    }
   ],
   "source": [
    "to_sub[['id','any_spot']].to_csv('submissions/mean_enc_sub.csv', index=False)\n",
    "to_sub.shape"
   ]
  },
  {
   "cell_type": "code",
   "execution_count": null,
   "metadata": {
    "collapsed": true
   },
   "outputs": [],
   "source": []
  }
 ],
 "metadata": {
  "kernelspec": {
   "display_name": "Python 3",
   "language": "python",
   "name": "python3"
  },
  "language_info": {
   "codemirror_mode": {
    "name": "ipython",
    "version": 3
   },
   "file_extension": ".py",
   "mimetype": "text/x-python",
   "name": "python",
   "nbconvert_exporter": "python",
   "pygments_lexer": "ipython3",
   "version": "3.6.3"
  }
 },
 "nbformat": 4,
 "nbformat_minor": 2
}
