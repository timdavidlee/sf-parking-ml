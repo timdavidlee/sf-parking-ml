{
 "cells": [
  {
   "cell_type": "code",
   "execution_count": 30,
   "metadata": {},
   "outputs": [],
   "source": [
    "from sklearn.ensemble import RandomForestClassifier\n",
    "from xgboost import XGBClassifier\n",
    "import matplotlib.pyplot as plt\n",
    "from sklearn.model_selection import train_test_split\n",
    "from sklearn.metrics import fbeta_score, make_scorer\n",
    "from common import get_train, get_test, get_parking, feat_eng, premodel_formating, mean_target_enc, get_XY\n",
    "import pandas as pd\n",
    "from sklearn.cross_validation import cross_val_score\n",
    "import numpy as np\n",
    "from sklearn.metrics import precision_score\n",
    "from sklearn.metrics import recall_score\n",
    "%matplotlib inline\n",
    "from sklearn.model_selection import KFold"
   ]
  },
  {
   "cell_type": "code",
   "execution_count": 31,
   "metadata": {},
   "outputs": [
    {
     "name": "stdout",
     "output_type": "stream",
     "text": [
      "Time it took: 0.14241504669189453\n",
      "Time it took: 0.09323358535766602\n",
      "adding additional features to test and/or train ...\n",
      "\n",
      "loading parking data 1.7M\n",
      "loading address data 30K\n",
      "calculating closest joins\n",
      "merging\n",
      "complete\n",
      "fixing neighborhood string formatting\n",
      "merging in neighborhood information\n",
      "Time it took: 0.3869357109069824\n",
      "adding additional features to test and/or train ...\n",
      "\n",
      "loading parking data 1.7M\n",
      "loading address data 30K\n",
      "calculating closest joins\n",
      "merging\n",
      "complete\n",
      "fixing neighborhood string formatting\n",
      "merging in neighborhood information\n",
      "Time it took: 0.3875710964202881\n"
     ]
    }
   ],
   "source": [
    "train_df = get_train()\n",
    "test_df = get_test()\n",
    "\n",
    "train_df = feat_eng(train_df)\n",
    "test_df = feat_eng(test_df)"
   ]
  },
  {
   "cell_type": "code",
   "execution_count": 14,
   "metadata": {},
   "outputs": [
    {
     "name": "stdout",
     "output_type": "stream",
     "text": [
      "(770,) (770, 18) (330,) (330, 18)\n"
     ]
    }
   ],
   "source": [
    "# tr, vl = premodel_formating(train_df)\n",
    "# y_tr = tr['any_spot'].values\n",
    "# y_vl = vl['any_spot'].values\n",
    "# X_tr = tr[[col for col in tr.columns if col not in ['any_spot','Real.Spots']]].copy()\n",
    "# X_vl = vl[[col for col in tr.columns if col not in ['any_spot','Real.Spots']]].copy()\n",
    "# print(y_tr.shape, X_tr.shape, y_vl.shape, X_vl.shape)"
   ]
  },
  {
   "cell_type": "markdown",
   "metadata": {},
   "source": [
    "## Random Forest ##"
   ]
  },
  {
   "cell_type": "code",
   "execution_count": 32,
   "metadata": {
    "collapsed": true
   },
   "outputs": [],
   "source": [
    "train_df = premodel_formating(train_df, split=False)"
   ]
  },
  {
   "cell_type": "code",
   "execution_count": 33,
   "metadata": {
    "collapsed": true
   },
   "outputs": [],
   "source": [
    "X = train_df.drop([\"Real.Spots\", \"any_spot\"], axis=1)\n",
    "y = train_df[\"any_spot\"]"
   ]
  },
  {
   "cell_type": "code",
   "execution_count": 34,
   "metadata": {
    "collapsed": true
   },
   "outputs": [],
   "source": [
    "def cv_k(X, y, k, model):\n",
    "    kf = KFold(n_splits = k)\n",
    "    kf.get_n_splits(X)\n",
    "    # f0.5 score\n",
    "    f_score = 0\n",
    "    # precision\n",
    "    p_score = 0\n",
    "    # recall\n",
    "    r_score = 0\n",
    "    for train_index, val_index in kf.split(X):\n",
    "        X_train, X_val = X.ix[train_index], X.ix[val_index]    \n",
    "        y_train, y_val = y.ix[train_index], y.ix[val_index]\n",
    "        model.fit(X_train, y_train)\n",
    "        preds = model.predict(X_val)\n",
    "        f_score += fbeta_score(y_val, preds, beta=0.5)\n",
    "        p_score += precision_score(y_val, preds)\n",
    "        r_score += recall_score(y_val, preds)\n",
    "    return [f_score/(k*1.0), p_score/(k*1.0), r_score/(k*1.0)]"
   ]
  },
  {
   "cell_type": "markdown",
   "metadata": {},
   "source": [
    "### Parameter Tuning"
   ]
  },
  {
   "cell_type": "markdown",
   "metadata": {},
   "source": [
    "Model1: n_estimators=16,min_samples_leaf=5,max_features=0.9, max_depth=5"
   ]
  },
  {
   "cell_type": "code",
   "execution_count": 10,
   "metadata": {
    "collapsed": true
   },
   "outputs": [],
   "source": [
    "import warnings; warnings.simplefilter('ignore')"
   ]
  },
  {
   "cell_type": "code",
   "execution_count": 11,
   "metadata": {},
   "outputs": [
    {
     "name": "stdout",
     "output_type": "stream",
     "text": [
      "[1, 1, 0.10000000000000001, 2, 0.27149084568439408, 0.12387387387387387]\n",
      "[1, 1, 0.10000000000000001, 3, 0.32419441406686489, 0.25927748413207419]\n",
      "[1, 1, 0.10000000000000001, 4, 0.52261076302863974, 0.3742517046277965]\n",
      "[1, 1, 0.10000000000000001, 7, 0.61086273561045823, 0.43284393423910411]\n",
      "[1, 1, 0.30000000000000004, 6, 0.65389562396214285, 0.44080495300007488]\n",
      "[1, 1, 0.30000000000000004, 7, 0.63895907654441741, 0.47322742493394099]\n",
      "[1, 1, 0.70000000000000007, 5, 0.63164475117104446, 0.49022530596258634]\n",
      "[1, 1, 0.90000000000000013, 5, 0.61870360596812823, 0.514423454115715]\n",
      "[1, 5, 0.70000000000000007, 5, 0.60975509566251807, 0.53570588679165698]\n",
      "[1, 10, 0.30000000000000004, 5, 0.61394678076784848, 0.53801541192608726]\n",
      "[1, 11, 0.90000000000000013, 6, 0.6283385945029113, 0.56998286051419556]\n",
      "[4, 11, 0.30000000000000004, 7, 0.68731190609968384, 0.5924782514255732]\n"
     ]
    }
   ],
   "source": [
    "# Tune three parameters: n_estimators, min_samepls_leaf, max_features and max_depth\n",
    "numOfestimators = np.arange(18) + 1\n",
    "numOfleafs = np.arange(15) + 1\n",
    "numOffeatures = np.arange(0.1, 1.1, 0.2)\n",
    "depths = np.arange(0, 7) + 1\n",
    "best_result = []\n",
    "for numOfestimator in numOfestimators:\n",
    "    for numOfleaf in numOfleafs:\n",
    "        for numOffeature in numOffeatures:  \n",
    "            for depth in depths:\n",
    "                result = [numOfestimator, numOfleaf, numOffeature, depth]\n",
    "                m = RandomForestClassifier(n_jobs=-1, n_estimators=numOfestimator,\\\n",
    "                                    min_samples_leaf=numOfleaf,\\\n",
    "                                    max_features=numOffeature, max_depth = depth)\n",
    "                score = cv_k(X, y, 3, m)\n",
    "                result.append(score[0])\n",
    "                result.append(score[1])\n",
    "                if len(best_result) == 0: best_result = result\n",
    "                elif best_result[5] < result[5]: \n",
    "                    print(result)\n",
    "                    best_result = result"
   ]
  },
  {
   "cell_type": "markdown",
   "metadata": {},
   "source": [
    "### RF without mean encoding"
   ]
  },
  {
   "cell_type": "code",
   "execution_count": 29,
   "metadata": {},
   "outputs": [
    {
     "data": {
      "text/plain": [
       "[0.51251245806134982, 0.6303347937810807, 0.3578299842809099]"
      ]
     },
     "execution_count": 29,
     "metadata": {},
     "output_type": "execute_result"
    }
   ],
   "source": [
    "# 4, 11, 0.30000000000000004, 7,\n",
    "# leaderboard score 0.57071\n",
    "m = RandomForestClassifier(n_jobs=-1, n_estimators=4,min_samples_leaf=11,max_features=0.3, max_depth = 7)\n",
    "m.fit(X, y)\n",
    "cv_k(X, y, 3, m)"
   ]
  },
  {
   "cell_type": "markdown",
   "metadata": {
    "collapsed": true
   },
   "source": [
    "### Prep for submission"
   ]
  },
  {
   "cell_type": "code",
   "execution_count": 3,
   "metadata": {
    "collapsed": true
   },
   "outputs": [],
   "source": [
    "trn = premodel_formating(train_df, split=False)\n",
    "tst = premodel_formating(test_df, split=False, test=True)"
   ]
  },
  {
   "cell_type": "code",
   "execution_count": 4,
   "metadata": {},
   "outputs": [
    {
     "name": "stdout",
     "output_type": "stream",
     "text": [
      "validation or test nulls 75, will fill with 0.4\n",
      "(1100, 24) (726, 22)\n"
     ]
    }
   ],
   "source": [
    "trn, tst = mean_target_enc(trn, tst)\n",
    "print(trn.shape, tst.shape)"
   ]
  },
  {
   "cell_type": "code",
   "execution_count": 6,
   "metadata": {},
   "outputs": [
    {
     "data": {
      "text/plain": [
       "((1100, 24), (726, 22))"
      ]
     },
     "execution_count": 6,
     "metadata": {},
     "output_type": "execute_result"
    }
   ],
   "source": [
    "trn.shape, tst.shape"
   ]
  },
  {
   "cell_type": "code",
   "execution_count": 7,
   "metadata": {
    "collapsed": true
   },
   "outputs": [],
   "source": [
    "X_tr, y_tr = get_XY(trn)"
   ]
  },
  {
   "cell_type": "code",
   "execution_count": 8,
   "metadata": {},
   "outputs": [
    {
     "name": "stdout",
     "output_type": "stream",
     "text": [
      "<class 'pandas.core.frame.DataFrame'>\n",
      "Int64Index: 1100 entries, 0 to 1099\n",
      "Data columns (total 22 columns):\n",
      "Street.Length       1100 non-null float64\n",
      "holiday             1100 non-null int64\n",
      "dow                 1100 non-null int64\n",
      "mon                 1100 non-null int64\n",
      "hour                1100 non-null int64\n",
      "morn_night          1100 non-null int64\n",
      "From_lat            1100 non-null float64\n",
      "From_long           1100 non-null float64\n",
      "From_zip            1100 non-null int64\n",
      "To_lat              1100 non-null float64\n",
      "To_long             1100 non-null float64\n",
      "To_zip              1100 non-null int64\n",
      "nhood               1100 non-null int64\n",
      "zipcode             1100 non-null int64\n",
      "area                1100 non-null float64\n",
      "f_pop               1100 non-null float64\n",
      "m_pop               1100 non-null float64\n",
      "pop                 1100 non-null float64\n",
      "mean_spot_prob      1100 non-null float64\n",
      "mean_spot_ct        1100 non-null float64\n",
      "z_mean_spot_prob    1100 non-null float64\n",
      "z_mean_spot_ct      1100 non-null float64\n",
      "dtypes: float64(13), int64(9)\n",
      "memory usage: 197.7 KB\n"
     ]
    }
   ],
   "source": [
    "X_tr.info()"
   ]
  },
  {
   "cell_type": "code",
   "execution_count": 9,
   "metadata": {},
   "outputs": [
    {
     "name": "stdout",
     "output_type": "stream",
     "text": [
      "(1100, 22) (1100,)\n"
     ]
    }
   ],
   "source": [
    "print(X_tr.shape, y_tr.shape)"
   ]
  },
  {
   "cell_type": "code",
   "execution_count": 24,
   "metadata": {
    "collapsed": true
   },
   "outputs": [],
   "source": [
    "rfc = RandomForestClassifier(n_estimators= 10, max_depth=10)\n",
    "m = rfc.fit(X_tr, y_tr)"
   ]
  },
  {
   "cell_type": "code",
   "execution_count": 25,
   "metadata": {
    "collapsed": true
   },
   "outputs": [],
   "source": [
    "xgc = XGBClassifier(max_depth = 5, n_estimators=100)\n",
    "m = xgc.fit(X_tr, y_tr)"
   ]
  },
  {
   "cell_type": "code",
   "execution_count": 26,
   "metadata": {
    "collapsed": true
   },
   "outputs": [],
   "source": [
    "tst_pred = m.predict(tst)\n",
    "to_sub = pd.DataFrame({'id': range(1, len(tst_pred)+1), 'any_spot': tst_pred})"
   ]
  },
  {
   "cell_type": "code",
   "execution_count": 27,
   "metadata": {},
   "outputs": [
    {
     "data": {
      "text/plain": [
       "(726, 2)"
      ]
     },
     "execution_count": 27,
     "metadata": {},
     "output_type": "execute_result"
    }
   ],
   "source": [
    "to_sub[['id','any_spot']].to_csv('submissions/mean_enc_sub.csv', index=False)\n",
    "to_sub.shape"
   ]
  },
  {
   "cell_type": "code",
   "execution_count": null,
   "metadata": {
    "collapsed": true
   },
   "outputs": [],
   "source": []
  }
 ],
 "metadata": {
  "kernelspec": {
   "display_name": "Python 3",
   "language": "python",
   "name": "python3"
  },
  "language_info": {
   "codemirror_mode": {
    "name": "ipython",
    "version": 3
   },
   "file_extension": ".py",
   "mimetype": "text/x-python",
   "name": "python",
   "nbconvert_exporter": "python",
   "pygments_lexer": "ipython3",
   "version": "3.6.2"
  }
 },
 "nbformat": 4,
 "nbformat_minor": 2
}
