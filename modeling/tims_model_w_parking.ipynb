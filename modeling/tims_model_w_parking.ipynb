{
 "cells": [
  {
   "cell_type": "code",
   "execution_count": 1,
   "metadata": {
    "collapsed": true
   },
   "outputs": [],
   "source": [
    "import pandas as pd\n",
    "import numpy as np\n",
    "from sklearn.ensemble import RandomForestClassifier\n",
    "from xgboost import XGBClassifier\n",
    "import matplotlib.pyplot as plt\n",
    "from sklearn.model_selection import train_test_split\n",
    "from sklearn.metrics import fbeta_score\n",
    "from common import get_train, get_test, feat_eng, add_street_sections, get_parking\n",
    "%matplotlib inline"
   ]
  },
  {
   "cell_type": "code",
   "execution_count": 16,
   "metadata": {},
   "outputs": [
    {
     "name": "stdout",
     "output_type": "stream",
     "text": [
      "Time it took: 0.14214801788330078\n",
      "Time it took: 0.08444690704345703\n",
      "adding additional features to test and/or train ...\n",
      "\n",
      "loading parking data 1.7M\n",
      "loading address data 30K\n",
      "calculating closest joins\n",
      "merging\n",
      "complete\n",
      "fixing neighborhood string formatting\n",
      "merging in neighborhood information\n",
      "Time it took: 0.7101459503173828\n",
      "adding additional features to test and/or train ...\n",
      "\n",
      "loading parking data 1.7M\n",
      "loading address data 30K\n",
      "calculating closest joins\n",
      "merging\n",
      "complete\n",
      "fixing neighborhood string formatting\n",
      "merging in neighborhood information\n",
      "Time it took: 0.6179640293121338\n"
     ]
    }
   ],
   "source": [
    "train_df = get_train()\n",
    "test_df = get_test()\n",
    "\n",
    "train_df = feat_eng(train_df)\n",
    "test_df = feat_eng(test_df)"
   ]
  },
  {
   "cell_type": "code",
   "execution_count": 50,
   "metadata": {},
   "outputs": [
    {
     "name": "stdout",
     "output_type": "stream",
     "text": [
      "loading cached copy\n",
      "Time it took: 2.1573381423950195\n"
     ]
    }
   ],
   "source": [
    "parking_def = get_parking()"
   ]
  },
  {
   "cell_type": "code",
   "execution_count": 51,
   "metadata": {},
   "outputs": [
    {
     "name": "stdout",
     "output_type": "stream",
     "text": [
      "loading cached copy\n",
      "Time it took: 2.1488640308380127\n",
      "Identifying key streets...\n",
      "Filtering down the parking data ...\n",
      "measuring parking coords within FROM TO bounds ...\n",
      "Adding street section ids to train and parking ...\n",
      "Complete\n"
     ]
    }
   ],
   "source": [
    "parking_df, train_df, test_df = add_street_sections(train_df, test_df)"
   ]
  },
  {
   "cell_type": "markdown",
   "metadata": {},
   "source": [
    "### Mean target encoding with parking"
   ]
  },
  {
   "cell_type": "code",
   "execution_count": 52,
   "metadata": {
    "collapsed": true
   },
   "outputs": [],
   "source": [
    "#def parking_mean_encoding(train_df, parking_df)\n",
    "grp_cols = ['STR_SEC', 'morn_night','dow','day']\n",
    "max_spots = parking_df.groupby(grp_cols).size().reset_index()\n",
    "max_spots.columns = grp_cols + ['spot_ct']\n",
    "max_spots = max_spots.groupby('STR_SEC')[['spot_ct']].max().reset_index()\n",
    "max_spots.head(50)\n",
    "max_spots.columns = ['STR_SEC', 'MAX_SPOTS']\n",
    "\n",
    "grp_cols = ['STR_SEC', 'morn_night','dow','day']\n",
    "pct_tbl = parking_df.groupby(grp_cols).size().reset_index()\n",
    "pct_tbl.columns = grp_cols + ['spot_ct']\n",
    "pct_tbl = pct_tbl.merge(max_spots, how='left', on='STR_SEC')\n",
    "pct_tbl['avail_pct'] = 1 - pct_tbl['spot_ct']/pct_tbl['MAX_SPOTS']\n",
    "\n",
    "grp_cols = ['STR_SEC','morn_night','dow']\n",
    "avg_pct_tbl = pct_tbl.groupby(grp_cols)['avail_pct'].agg([np.mean, np.max]).reset_index()"
   ]
  },
  {
   "cell_type": "code",
   "execution_count": 53,
   "metadata": {
    "collapsed": true
   },
   "outputs": [],
   "source": [
    "joined = train_df.merge(avg_pct_tbl, how = 'left', on =grp_cols)\n"
   ]
  },
  {
   "cell_type": "code",
   "execution_count": 54,
   "metadata": {},
   "outputs": [
    {
     "data": {
      "text/html": [
       "<div>\n",
       "<style scoped>\n",
       "    .dataframe tbody tr th:only-of-type {\n",
       "        vertical-align: middle;\n",
       "    }\n",
       "\n",
       "    .dataframe tbody tr th {\n",
       "        vertical-align: top;\n",
       "    }\n",
       "\n",
       "    .dataframe thead th {\n",
       "        text-align: right;\n",
       "    }\n",
       "</style>\n",
       "<table border=\"1\" class=\"dataframe\">\n",
       "  <thead>\n",
       "    <tr style=\"text-align: right;\">\n",
       "      <th></th>\n",
       "      <th>Street</th>\n",
       "      <th>From</th>\n",
       "      <th>To</th>\n",
       "      <th>Date</th>\n",
       "      <th>Time</th>\n",
       "      <th>Real.Spots</th>\n",
       "      <th>Street.Length</th>\n",
       "      <th>any_spot</th>\n",
       "      <th>holiday</th>\n",
       "      <th>day</th>\n",
       "      <th>...</th>\n",
       "      <th>med_age</th>\n",
       "      <th>pop</th>\n",
       "      <th>twn_avg_value</th>\n",
       "      <th>twn_pct</th>\n",
       "      <th>STREET</th>\n",
       "      <th>STR_SEC_x</th>\n",
       "      <th>STR_SEC_y</th>\n",
       "      <th>STR_SEC</th>\n",
       "      <th>mean</th>\n",
       "      <th>amax</th>\n",
       "    </tr>\n",
       "  </thead>\n",
       "  <tbody>\n",
       "    <tr>\n",
       "      <th>0</th>\n",
       "      <td>Mission Street</td>\n",
       "      <td>25th Street</td>\n",
       "      <td>26th Street</td>\n",
       "      <td>2014-01-07</td>\n",
       "      <td>16:19</td>\n",
       "      <td>4</td>\n",
       "      <td>179.132970</td>\n",
       "      <td>1</td>\n",
       "      <td>0</td>\n",
       "      <td>7</td>\n",
       "      <td>...</td>\n",
       "      <td>38.4</td>\n",
       "      <td>25825.0</td>\n",
       "      <td>1048521.0</td>\n",
       "      <td>18.5</td>\n",
       "      <td>MISSION STREET</td>\n",
       "      <td>0</td>\n",
       "      <td>0</td>\n",
       "      <td>0</td>\n",
       "      <td>0.915323</td>\n",
       "      <td>0.931452</td>\n",
       "    </tr>\n",
       "    <tr>\n",
       "      <th>1</th>\n",
       "      <td>Polk Street</td>\n",
       "      <td>Ellis Street</td>\n",
       "      <td>Olive Street</td>\n",
       "      <td>2014-01-18</td>\n",
       "      <td>20:42</td>\n",
       "      <td>0</td>\n",
       "      <td>52.740210</td>\n",
       "      <td>0</td>\n",
       "      <td>0</td>\n",
       "      <td>18</td>\n",
       "      <td>...</td>\n",
       "      <td>42.5</td>\n",
       "      <td>14670.0</td>\n",
       "      <td>718750.0</td>\n",
       "      <td>2.0</td>\n",
       "      <td>POLK STREET</td>\n",
       "      <td>30</td>\n",
       "      <td>30</td>\n",
       "      <td>30</td>\n",
       "      <td>NaN</td>\n",
       "      <td>NaN</td>\n",
       "    </tr>\n",
       "    <tr>\n",
       "      <th>2</th>\n",
       "      <td>Van Ness Avenue</td>\n",
       "      <td>Geary Boulevard</td>\n",
       "      <td>Myrtle Street</td>\n",
       "      <td>2014-01-18</td>\n",
       "      <td>20:39</td>\n",
       "      <td>0</td>\n",
       "      <td>52.517840</td>\n",
       "      <td>0</td>\n",
       "      <td>0</td>\n",
       "      <td>18</td>\n",
       "      <td>...</td>\n",
       "      <td>47.1</td>\n",
       "      <td>14331.0</td>\n",
       "      <td>1041250.0</td>\n",
       "      <td>6.6</td>\n",
       "      <td>VAN NESS AVENUE</td>\n",
       "      <td>38</td>\n",
       "      <td>38</td>\n",
       "      <td>38</td>\n",
       "      <td>0.990291</td>\n",
       "      <td>0.990291</td>\n",
       "    </tr>\n",
       "    <tr>\n",
       "      <th>3</th>\n",
       "      <td>Van Ness Avenue</td>\n",
       "      <td>Bush Street</td>\n",
       "      <td>Fern Street</td>\n",
       "      <td>2014-01-18</td>\n",
       "      <td>20:38</td>\n",
       "      <td>0</td>\n",
       "      <td>52.405315</td>\n",
       "      <td>0</td>\n",
       "      <td>0</td>\n",
       "      <td>18</td>\n",
       "      <td>...</td>\n",
       "      <td>45.9</td>\n",
       "      <td>1395.0</td>\n",
       "      <td>NaN</td>\n",
       "      <td>NaN</td>\n",
       "      <td>VAN NESS AVENUE</td>\n",
       "      <td>52</td>\n",
       "      <td>52</td>\n",
       "      <td>52</td>\n",
       "      <td>NaN</td>\n",
       "      <td>NaN</td>\n",
       "    </tr>\n",
       "    <tr>\n",
       "      <th>4</th>\n",
       "      <td>Van Ness Avenue</td>\n",
       "      <td>Daniel Burnham Court</td>\n",
       "      <td>Post Street</td>\n",
       "      <td>2014-01-18</td>\n",
       "      <td>20:38</td>\n",
       "      <td>0</td>\n",
       "      <td>52.191193</td>\n",
       "      <td>0</td>\n",
       "      <td>0</td>\n",
       "      <td>18</td>\n",
       "      <td>...</td>\n",
       "      <td>41.5</td>\n",
       "      <td>9194.0</td>\n",
       "      <td>NaN</td>\n",
       "      <td>NaN</td>\n",
       "      <td>VAN NESS AVENUE</td>\n",
       "      <td>46</td>\n",
       "      <td>46</td>\n",
       "      <td>46</td>\n",
       "      <td>NaN</td>\n",
       "      <td>NaN</td>\n",
       "    </tr>\n",
       "  </tbody>\n",
       "</table>\n",
       "<p>5 rows × 55 columns</p>\n",
       "</div>"
      ],
      "text/plain": [
       "            Street                  From             To       Date   Time  \\\n",
       "0   Mission Street           25th Street    26th Street 2014-01-07  16:19   \n",
       "1      Polk Street          Ellis Street   Olive Street 2014-01-18  20:42   \n",
       "2  Van Ness Avenue       Geary Boulevard  Myrtle Street 2014-01-18  20:39   \n",
       "3  Van Ness Avenue           Bush Street    Fern Street 2014-01-18  20:38   \n",
       "4  Van Ness Avenue  Daniel Burnham Court    Post Street 2014-01-18  20:38   \n",
       "\n",
       "   Real.Spots  Street.Length  any_spot  holiday  day    ...     med_age  \\\n",
       "0           4     179.132970         1        0    7    ...        38.4   \n",
       "1           0      52.740210         0        0   18    ...        42.5   \n",
       "2           0      52.517840         0        0   18    ...        47.1   \n",
       "3           0      52.405315         0        0   18    ...        45.9   \n",
       "4           0      52.191193         0        0   18    ...        41.5   \n",
       "\n",
       "       pop  twn_avg_value  twn_pct           STREET  STR_SEC_x  STR_SEC_y  \\\n",
       "0  25825.0      1048521.0     18.5   MISSION STREET          0          0   \n",
       "1  14670.0       718750.0      2.0      POLK STREET         30         30   \n",
       "2  14331.0      1041250.0      6.6  VAN NESS AVENUE         38         38   \n",
       "3   1395.0            NaN      NaN  VAN NESS AVENUE         52         52   \n",
       "4   9194.0            NaN      NaN  VAN NESS AVENUE         46         46   \n",
       "\n",
       "   STR_SEC      mean      amax  \n",
       "0        0  0.915323  0.931452  \n",
       "1       30       NaN       NaN  \n",
       "2       38  0.990291  0.990291  \n",
       "3       52       NaN       NaN  \n",
       "4       46       NaN       NaN  \n",
       "\n",
       "[5 rows x 55 columns]"
      ]
     },
     "execution_count": 54,
     "metadata": {},
     "output_type": "execute_result"
    }
   ],
   "source": [
    "joined.head()"
   ]
  },
  {
   "cell_type": "code",
   "execution_count": 58,
   "metadata": {
    "scrolled": false
   },
   "outputs": [
    {
     "data": {
      "text/plain": [
       "0       False\n",
       "1        True\n",
       "2       False\n",
       "3        True\n",
       "4        True\n",
       "5        True\n",
       "6        True\n",
       "7        True\n",
       "8        True\n",
       "9        True\n",
       "10       True\n",
       "11      False\n",
       "12       True\n",
       "13       True\n",
       "14       True\n",
       "15       True\n",
       "16       True\n",
       "17       True\n",
       "18       True\n",
       "19      False\n",
       "20      False\n",
       "21       True\n",
       "22      False\n",
       "23       True\n",
       "24       True\n",
       "25      False\n",
       "26       True\n",
       "27      False\n",
       "28       True\n",
       "29       True\n",
       "        ...  \n",
       "1107     True\n",
       "1108     True\n",
       "1109     True\n",
       "1110     True\n",
       "1111     True\n",
       "1112    False\n",
       "1113    False\n",
       "1114     True\n",
       "1115     True\n",
       "1116     True\n",
       "1117     True\n",
       "1118     True\n",
       "1119     True\n",
       "1120     True\n",
       "1121     True\n",
       "1122     True\n",
       "1123     True\n",
       "1124     True\n",
       "1125     True\n",
       "1126    False\n",
       "1127     True\n",
       "1128     True\n",
       "1129     True\n",
       "1130    False\n",
       "1131     True\n",
       "1132    False\n",
       "1133     True\n",
       "1134     True\n",
       "1135     True\n",
       "1136     True\n",
       "Name: mean, Length: 1137, dtype: bool"
      ]
     },
     "execution_count": 58,
     "metadata": {},
     "output_type": "execute_result"
    }
   ],
   "source": [
    "joined['mean'].isna()"
   ]
  },
  {
   "cell_type": "code",
   "execution_count": null,
   "metadata": {
    "collapsed": true
   },
   "outputs": [],
   "source": []
  }
 ],
 "metadata": {
  "kernelspec": {
   "display_name": "Python 3",
   "language": "python",
   "name": "python3"
  },
  "language_info": {
   "codemirror_mode": {
    "name": "ipython",
    "version": 3
   },
   "file_extension": ".py",
   "mimetype": "text/x-python",
   "name": "python",
   "nbconvert_exporter": "python",
   "pygments_lexer": "ipython3",
   "version": "3.6.3"
  }
 },
 "nbformat": 4,
 "nbformat_minor": 2
}
